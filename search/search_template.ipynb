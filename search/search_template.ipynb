{
 "cells": [
  {
   "cell_type": "markdown",
   "metadata": {},
   "source": [
    "# Import packages"
   ]
  },
  {
   "cell_type": "code",
   "execution_count": 1,
   "metadata": {},
   "outputs": [],
   "source": [
    "from elasticsearch import Elasticsearch\n",
    "from elasticsearch.helpers import scan\n",
    "import pandas as pd\n",
    "import time\n",
    "from credentials import * # make sure to set the required files\n",
    "from csv import writer"
   ]
  },
  {
   "cell_type": "code",
   "execution_count": 2,
   "metadata": {},
   "outputs": [],
   "source": [
    "# Ignore warning messages\n",
    "import warnings\n",
    "warnings.filterwarnings(\"ignore\")"
   ]
  },
  {
   "cell_type": "markdown",
   "metadata": {},
   "source": [
    "# Login and connect"
   ]
  },
  {
   "cell_type": "code",
   "execution_count": 3,
   "metadata": {
    "pycharm": {
     "name": "#%%\n"
    }
   },
   "outputs": [],
   "source": [
    "es = Elasticsearch(hosts=hosts, # make sure to configure the hosts in the credentials file\n",
    "                   verify_certs=False,\n",
    "                   http_auth=(username, password), # configure the login details in the credentials.py file\n",
    "                   #api_key=(api_username, api_password), # configure the api login details in the credentials.py file\n",
    "                  )"
   ]
  },
  {
   "cell_type": "code",
   "execution_count": 4,
   "metadata": {
    "collapsed": true
   },
   "outputs": [
    {
     "ename": "AuthorizationException",
     "evalue": "AuthorizationException(403, 'security_exception', 'action [cluster:monitor/main] is unauthorized for user [ashek] with roles [read_index,machine_learning_user], this action is granted by the cluster privileges [monitor,manage,all]')",
     "output_type": "error",
     "traceback": [
      "\u001B[1;31m---------------------------------------------------------------------------\u001B[0m",
      "\u001B[1;31mAuthorizationException\u001B[0m                    Traceback (most recent call last)",
      "Input \u001B[1;32mIn [4]\u001B[0m, in \u001B[0;36m<module>\u001B[1;34m\u001B[0m\n\u001B[0;32m      1\u001B[0m \u001B[38;5;66;03m# Check API response \u001B[39;00m\n\u001B[1;32m----> 2\u001B[0m elastic_info \u001B[38;5;241m=\u001B[39m \u001B[43mes\u001B[49m\u001B[38;5;241;43m.\u001B[39;49m\u001B[43minfo\u001B[49m\u001B[43m(\u001B[49m\u001B[43m)\u001B[49m\n\u001B[0;32m      3\u001B[0m \u001B[38;5;28;01mfor\u001B[39;00m k, v \u001B[38;5;129;01min\u001B[39;00m elastic_info\u001B[38;5;241m.\u001B[39mitems():\n\u001B[0;32m      4\u001B[0m     \u001B[38;5;28mprint\u001B[39m(k, \u001B[38;5;124m'\u001B[39m\u001B[38;5;124m-\u001B[39m\u001B[38;5;124m'\u001B[39m\u001B[38;5;241m*\u001B[39m(\u001B[38;5;241m20\u001B[39m\u001B[38;5;241m-\u001B[39m(\u001B[38;5;241m1\u001B[39m\u001B[38;5;241m*\u001B[39m\u001B[38;5;28mlen\u001B[39m(k))), v)\n",
      "File \u001B[1;32mc:\\users\\ashek\\documents\\github\\working_with_cogstack\\venv\\lib\\site-packages\\elasticsearch\\_sync\\client\\utils.py:404\u001B[0m, in \u001B[0;36m_rewrite_parameters.<locals>.wrapper.<locals>.wrapped\u001B[1;34m(*args, **kwargs)\u001B[0m\n\u001B[0;32m    401\u001B[0m         \u001B[38;5;28;01mexcept\u001B[39;00m \u001B[38;5;167;01mKeyError\u001B[39;00m:\n\u001B[0;32m    402\u001B[0m             \u001B[38;5;28;01mpass\u001B[39;00m\n\u001B[1;32m--> 404\u001B[0m \u001B[38;5;28;01mreturn\u001B[39;00m api(\u001B[38;5;241m*\u001B[39margs, \u001B[38;5;241m*\u001B[39m\u001B[38;5;241m*\u001B[39mkwargs)\n",
      "File \u001B[1;32mc:\\users\\ashek\\documents\\github\\working_with_cogstack\\venv\\lib\\site-packages\\elasticsearch\\_sync\\client\\__init__.py:2238\u001B[0m, in \u001B[0;36mElasticsearch.info\u001B[1;34m(self, error_trace, filter_path, human, pretty)\u001B[0m\n\u001B[0;32m   2236\u001B[0m     __query[\u001B[38;5;124m\"\u001B[39m\u001B[38;5;124mpretty\u001B[39m\u001B[38;5;124m\"\u001B[39m] \u001B[38;5;241m=\u001B[39m pretty\n\u001B[0;32m   2237\u001B[0m __headers \u001B[38;5;241m=\u001B[39m {\u001B[38;5;124m\"\u001B[39m\u001B[38;5;124maccept\u001B[39m\u001B[38;5;124m\"\u001B[39m: \u001B[38;5;124m\"\u001B[39m\u001B[38;5;124mapplication/json\u001B[39m\u001B[38;5;124m\"\u001B[39m}\n\u001B[1;32m-> 2238\u001B[0m \u001B[38;5;28;01mreturn\u001B[39;00m \u001B[38;5;28;43mself\u001B[39;49m\u001B[38;5;241;43m.\u001B[39;49m\u001B[43mperform_request\u001B[49m\u001B[43m(\u001B[49m\u001B[43m  \u001B[49m\u001B[38;5;66;43;03m# type: ignore[return-value]\u001B[39;49;00m\n\u001B[0;32m   2239\u001B[0m \u001B[43m    \u001B[49m\u001B[38;5;124;43m\"\u001B[39;49m\u001B[38;5;124;43mGET\u001B[39;49m\u001B[38;5;124;43m\"\u001B[39;49m\u001B[43m,\u001B[49m\u001B[43m \u001B[49m\u001B[43m__path\u001B[49m\u001B[43m,\u001B[49m\u001B[43m \u001B[49m\u001B[43mparams\u001B[49m\u001B[38;5;241;43m=\u001B[39;49m\u001B[43m__query\u001B[49m\u001B[43m,\u001B[49m\u001B[43m \u001B[49m\u001B[43mheaders\u001B[49m\u001B[38;5;241;43m=\u001B[39;49m\u001B[43m__headers\u001B[49m\n\u001B[0;32m   2240\u001B[0m \u001B[43m\u001B[49m\u001B[43m)\u001B[49m\n",
      "File \u001B[1;32mc:\\users\\ashek\\documents\\github\\working_with_cogstack\\venv\\lib\\site-packages\\elasticsearch\\_sync\\client\\_base.py:321\u001B[0m, in \u001B[0;36mBaseClient.perform_request\u001B[1;34m(self, method, path, params, headers, body)\u001B[0m\n\u001B[0;32m    318\u001B[0m         \u001B[38;5;28;01mexcept\u001B[39;00m (\u001B[38;5;167;01mValueError\u001B[39;00m, \u001B[38;5;167;01mKeyError\u001B[39;00m, \u001B[38;5;167;01mTypeError\u001B[39;00m):\n\u001B[0;32m    319\u001B[0m             \u001B[38;5;28;01mpass\u001B[39;00m\n\u001B[1;32m--> 321\u001B[0m     \u001B[38;5;28;01mraise\u001B[39;00m HTTP_EXCEPTIONS\u001B[38;5;241m.\u001B[39mget(meta\u001B[38;5;241m.\u001B[39mstatus, ApiError)(\n\u001B[0;32m    322\u001B[0m         message\u001B[38;5;241m=\u001B[39mmessage, meta\u001B[38;5;241m=\u001B[39mmeta, body\u001B[38;5;241m=\u001B[39mresp_body\n\u001B[0;32m    323\u001B[0m     )\n\u001B[0;32m    325\u001B[0m \u001B[38;5;66;03m# 'X-Elastic-Product: Elasticsearch' should be on every 2XX response.\u001B[39;00m\n\u001B[0;32m    326\u001B[0m \u001B[38;5;28;01mif\u001B[39;00m \u001B[38;5;129;01mnot\u001B[39;00m \u001B[38;5;28mself\u001B[39m\u001B[38;5;241m.\u001B[39m_verified_elasticsearch:\n\u001B[0;32m    327\u001B[0m     \u001B[38;5;66;03m# If the header is set we mark the server as verified.\u001B[39;00m\n",
      "\u001B[1;31mAuthorizationException\u001B[0m: AuthorizationException(403, 'security_exception', 'action [cluster:monitor/main] is unauthorized for user [ashek] with roles [read_index,machine_learning_user], this action is granted by the cluster privileges [monitor,manage,all]')"
     ]
    }
   ],
   "source": [
    "# Check API response \n",
    "elastic_info = es.info()\n",
    "for k, v in elastic_info.items():\n",
    "    print(k, '-'*(20-(1*len(k))), v)"
   ]
  },
  {
   "cell_type": "code",
   "execution_count": null,
   "metadata": {},
   "outputs": [],
   "source": [
    "#Check health of elastic cluster\n",
    "es_health = es.cluster.health(wait_for_status='yellow', request_timeout=1)\n",
    "for k, v in es_health.items():\n",
    "    print(k, '-'*(20-(1*len(k))), v)"
   ]
  },
  {
   "cell_type": "markdown",
   "metadata": {},
   "source": [
    "# Check the list of Indices and columns"
   ]
  },
  {
   "cell_type": "code",
   "execution_count": 4,
   "metadata": {},
   "outputs": [
    {
     "name": "stdout",
     "output_type": "stream",
     "text": [
      "gstt_clinical_documents_letters\n",
      "gstt_clinical_documents_edl\n",
      "gstt_clinical_noting_20220105\n",
      "gstt_clinical_neonatal_comments\n",
      "gstt_clinical_cancer_documents_20220120\n",
      "gstt_clinical_documents_letters_annotations\n",
      "gstt_clinical_epr_orders_20220120\n",
      "gstt_clinical_epr_observations_20220120\n",
      "gstt_clinical_epr_results_20220120\n",
      "gstt_clinical_cancer_documents_annotations\n",
      "gstt_clinical_epr_results\n",
      "gstt_clinical_emergency_20211224\n",
      "gstt_clinical_documents_edl_annotations\n"
     ]
    }
   ],
   "source": [
    "for i in es.indices.get_mapping().keys():\n",
    "    print(i)"
   ]
  },
  {
   "cell_type": "code",
   "execution_count": 5,
   "metadata": {},
   "outputs": [
    {
     "name": "stdout",
     "output_type": "stream",
     "text": [
      "body_analysed\n",
      "document_ApplicationCode\n",
      "document_ApplicationSource\n",
      "document_ArrivalDtm\n",
      "document_Author\n",
      "document_AuthoredDtm\n",
      "document_AuthoredProviderGUID\n",
      "document_AuthorisorDisplayName\n",
      "document_AuthorisorGUID\n",
      "document_CareProviderDisplayName\n",
      "document_CareProviderTypeCode\n",
      "document_ChartGUID\n",
      "document_Comment\n",
      "document_ContentType\n",
      "document_CreatedBy\n",
      "document_CreatedWhen\n",
      "document_DateAdded\n",
      "document_DateCreated\n",
      "document_DefinitionGUID\n",
      "document_Description\n",
      "document_Entered\n",
      "document_EnteredDisplayName\n",
      "document_EnteredOccupationCode\n",
      "document_EntryType\n",
      "document_Extension\n",
      "document_ExternalDocumentID\n",
      "document_FileName\n",
      "document_FillerDocumentID\n",
      "document_FillerFacilityID\n",
      "document_GUID\n",
      "document_KTreeRootGUID\n",
      "document_LastUpdated\n",
      "document_LetterMakerGUID\n",
      "document_Name\n",
      "document_OrganizationalUnit\n",
      "document_ReviewMasterCategory\n",
      "document_ReviewSubCategory\n",
      "document_Source\n",
      "document_TextType\n",
      "document_TouchedBy\n",
      "document_TouchedWhen\n",
      "document_Type\n",
      "document_UserGUID\n",
      "id\n",
      "meta_document_analysed\n",
      "nlp\n",
      "patientAddress_City\n",
      "patientAddress_CountryCode\n",
      "patientAddress_Line1\n",
      "patientAddress_Line2\n",
      "patientAddress_Line3\n",
      "patientAddress_PostalCode\n",
      "patientVisit_AdmitDtm\n",
      "patientVisit_ApplicSource\n",
      "patientVisit_CareLevelCode\n",
      "patientVisit_ClientDisplayName\n",
      "patientVisit_CloseDtm\n",
      "patientVisit_CreatedBy\n",
      "patientVisit_CreatedWhen\n",
      "patientVisit_CurrentLocation\n",
      "patientVisit_CurrentLocationGUID\n",
      "patientVisit_DischargeDisposition\n",
      "patientVisit_DischargeDtm\n",
      "patientVisit_DischargeLocation\n",
      "patientVisit_Id\n",
      "patientVisit_InternalVisitStatus\n",
      "patientVisit_LengthOfStay\n",
      "patientVisit_Number\n",
      "patientVisit_PlannedDischargeDtm\n",
      "patientVisit_ProviderDisplayName\n",
      "patientVisit_ServiceDescription\n",
      "patientVisit_ServiceGUID\n",
      "patientVisit_Status\n",
      "patientVisit_TouchedBy\n",
      "patientVisit_TouchedWhen\n",
      "patientVisit_TypeCode\n",
      "patientVisit_VisitTypeCareLevelGUID\n",
      "patient_Age\n",
      "patient_CityOfBirth\n",
      "patient_CountryDvsnOfBirth\n",
      "patient_CountryOfBirth\n",
      "patient_CreatedBy\n",
      "patient_CreatedWhen\n",
      "patient_DOB\n",
      "patient_DeceasedDtm\n",
      "patient_FirstName\n",
      "patient_GenderCode\n",
      "patient_HouseholdGUID\n",
      "patient_Id\n",
      "patient_LanguageCode\n",
      "patient_LastName\n",
      "patient_MaritalStatusCode\n",
      "patient_MiddleName\n",
      "patient_NationalityCode\n",
      "patient_NhsNumber\n",
      "patient_OccupationCode\n",
      "patient_RaceCode\n",
      "patient_ReligionCode\n",
      "patient_Title\n",
      "patient_TouchedBy\n",
      "patient_TouchedWhen\n",
      "patient_TrustNumber\n",
      "patient_address_analysed\n",
      "patient_name_analysed\n",
      "patient_visit_analysed\n",
      "personId\n",
      "personType\n"
     ]
    }
   ],
   "source": [
    "# Check the list of columns in that index\n",
    "index = 'gstt_clinical_documents_letters'\n",
    "for col in es.indices.get_mapping(index=index)[index]['mappings']['properties'].keys():\n",
    "    print(col)"
   ]
  },
  {
   "cell_type": "markdown",
   "metadata": {},
   "source": [
    "# Set parameters"
   ]
  },
  {
   "cell_type": "code",
   "execution_count": 6,
   "metadata": {},
   "outputs": [],
   "source": [
    "#data = pd.read_csv(\"path to csv\")\n",
    "pt_list = ['8032007P', '4781588Q', '5462414H'] # example list of patients' patient_TrustNumber here"
   ]
  },
  {
   "cell_type": "markdown",
   "metadata": {},
   "source": [
    "## Columns of interest"
   ]
  },
  {
   "cell_type": "code",
   "execution_count": 7,
   "metadata": {},
   "outputs": [],
   "source": [
    "columns = [\"body_analysed\",\n",
    "           \"patient_RaceCode\",\n",
    "           \"patient_Id\", # this number can be different from the trust number which you are searching for\n",
    "           \"patient_DOB\", \n",
    "           \"patient_GenderCode\", \n",
    "           \"patient_MaritalStatusCode\", \n",
    "           \"patient_ReligionCode\", \n",
    "           \"patient_DeceasedDtm\", \n",
    "           \"patient_LastName\",\n",
    "           \"patient_FirstName\",\n",
    "          ]"
   ]
  },
  {
   "cell_type": "markdown",
   "metadata": {},
   "source": [
    "## Build query"
   ]
  },
  {
   "cell_type": "code",
   "execution_count": 8,
   "metadata": {},
   "outputs": [],
   "source": [
    "query = {\n",
    "    \"from\" : 0 ,\n",
    "    \"size\" : 10000,\n",
    "    \"query\": {\n",
    "        \"bool\": {\n",
    "            \"filter\" : {\n",
    "                \"terms\" : {\"patient_TrustNumber\" : pt_list}\n",
    "            }\n",
    "        }\n",
    "    },\n",
    "    \"_source\": columns\n",
    "}"
   ]
  },
  {
   "cell_type": "markdown",
   "metadata": {},
   "source": [
    "# Search, retrieve, and save"
   ]
  },
  {
   "cell_type": "code",
   "execution_count": 80,
   "metadata": {},
   "outputs": [],
   "source": [
    "search_results = scan(es,\n",
    "                      index=[\"gstt_clinical_epr_*\"],\n",
    "                      preserve_order=True,  # This has major effects on performance but preserves the search order\n",
    "                      query=query,\n",
    "                     )"
   ]
  },
  {
   "cell_type": "markdown",
   "metadata": {},
   "source": [
    "### Simple search"
   ]
  },
  {
   "cell_type": "code",
   "execution_count": null,
   "metadata": {},
   "outputs": [],
   "source": [
    "# Construct a df\n",
    "temp_results = []\n",
    "\n",
    "for hit in search_results:\n",
    "    row = {}\n",
    "    row['_index'] = hit['_index']\n",
    "    row['_type'] = hit['_type']\n",
    "    row['_id'] = hit['_id']\n",
    "    row['_score'] = hit['_score']\n",
    "    row.update(hit['_source'])\n",
    "    temp_results.append(row)\n",
    "\n",
    "df = pd.DataFrame(temp_results)\n",
    "df_headers = ['_index', '_type', '_id', '_score']\n",
    "df_headers.extend(columns)\n",
    "output_df = pd.DataFrame(columns=df_headers)\n",
    "df = pd.concat([output_df, df])"
   ]
  },
  {
   "cell_type": "markdown",
   "metadata": {},
   "source": [
    "### Simple search and save to file\n",
    "This option is for large searches"
   ]
  },
  {
   "cell_type": "code",
   "execution_count": 81,
   "metadata": {},
   "outputs": [],
   "source": [
    "# Construct a df\n",
    "search_results_filename = 'search_results.csv'  # change output filename\n",
    "temp_results = []\n",
    "counter = 0\n",
    "save_interator = 5000  # saves every x hits\n",
    "df_headers = ['_index', '_type', '_id', '_score']\n",
    "df_headers.extend(columns)\n",
    "\n",
    "with open(search_results_filename, 'a') as f_object:\n",
    "    writer_object = writer(f_object)\n",
    "    writer_object.writerow(df_headers)\n",
    "    for hit in search_results:\n",
    "        if counter % 5000 == 0:\n",
    "            writer_object.writerows(temp_results)\n",
    "            temp_results = []\n",
    "        row = {}\n",
    "        row['_index'] = hit['_index']\n",
    "        row['_type'] = hit['_type']\n",
    "        row['_id'] = hit['_id']\n",
    "        row['_score'] = hit['_score']\n",
    "        row.update(hit['_source'])\n",
    "        temp_results.append(row.values())\n",
    "        counter += 1\n",
    "        \n",
    "    writer_object.writerows(temp_results)\n",
    "    temp_results = []\n",
    "    f_object.close()"
   ]
  },
  {
   "cell_type": "code",
   "execution_count": null,
   "metadata": {
    "scrolled": true
   },
   "outputs": [],
   "source": []
  },
  {
   "cell_type": "markdown",
   "metadata": {},
   "source": [
    "# Process"
   ]
  },
  {
   "cell_type": "code",
   "execution_count": 82,
   "metadata": {},
   "outputs": [],
   "source": [
    "# Whatever you want here\n",
    "df = pd.read_csv(search_results_filename)"
   ]
  },
  {
   "cell_type": "code",
   "execution_count": null,
   "metadata": {},
   "outputs": [],
   "source": [
    "df.head()"
   ]
  },
  {
   "cell_type": "markdown",
   "metadata": {},
   "source": [
    "# Save"
   ]
  },
  {
   "cell_type": "code",
   "execution_count": null,
   "metadata": {},
   "outputs": [],
   "source": [
    "df.to_csv(\"file_name.csv\", encoding=\"utf-8\", index=False)"
   ]
  }
 ],
 "metadata": {
  "kernelspec": {
   "display_name": "Python 3 (ipykernel)",
   "language": "python",
   "name": "python3"
  },
  "language_info": {
   "codemirror_mode": {
    "name": "ipython",
    "version": 3
   },
   "file_extension": ".py",
   "mimetype": "text/x-python",
   "name": "python",
   "nbconvert_exporter": "python",
   "pygments_lexer": "ipython3",
   "version": "3.9.7"
  }
 },
 "nbformat": 4,
 "nbformat_minor": 1
}