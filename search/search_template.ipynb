{
 "cells": [
  {
   "cell_type": "markdown",
   "metadata": {},
   "source": [
    "# Import packages"
   ]
  },
  {
   "cell_type": "code",
   "execution_count": null,
   "metadata": {},
   "outputs": [],
   "source": [
    "from elasticsearch import Elasticsearch\n",
    "from elasticsearch.helpers import scan\n",
    "import pandas as pd\n",
    "import time\n",
    "from csv import writer"
   ]
  },
  {
   "cell_type": "code",
   "execution_count": null,
   "metadata": {},
   "outputs": [],
   "source": [
    "# Ignore warning messages\n",
    "import warnings\n",
    "warnings.filterwarnings(\"ignore\")"
   ]
  },
  {
   "cell_type": "markdown",
   "metadata": {},
   "source": [
    "# Login and connect"
   ]
  },
  {
   "cell_type": "code",
   "execution_count": null,
   "metadata": {},
   "outputs": [],
   "source": [
    "import sys\n",
    "sys.path.append(\"..\")\n",
    "from credentials import *  # make sure to set the required files"
   ]
  },
  {
   "cell_type": "code",
   "execution_count": null,
   "metadata": {
    "pycharm": {
     "name": "#%%\n"
    }
   },
   "outputs": [],
   "source": [
    "es = Elasticsearch(hosts=hosts, # make sure to configure the hosts in the credentials file\n",
    "                   verify_certs=False,\n",
    "                   scheme='https',\n",
    "                   http_auth=(username, password), # configure the login details in the credentials.py file\n",
    "                   #api_key=(api_username, api_password), # configure the api login details in the credentials.py file\n",
    "                  )"
   ]
  },
  {
   "cell_type": "code",
   "execution_count": null,
   "metadata": {},
   "outputs": [],
   "source": [
    "# Check API response \n",
    "elastic_info = es.info()\n",
    "for k, v in elastic_info.items():\n",
    "    print(k, '-'*(20-(1*len(k))), v)"
   ]
  },
  {
   "cell_type": "code",
   "execution_count": null,
   "metadata": {},
   "outputs": [],
   "source": [
    "#Check health of elastic cluster\n",
    "es_health = es.cluster.health(wait_for_status='yellow', request_timeout=1)\n",
    "for k, v in es_health.items():\n",
    "    print(k, '-'*(20-(1*len(k))), v)"
   ]
  },
  {
   "cell_type": "markdown",
   "metadata": {},
   "source": [
    "# Check the list of Indices and columns"
   ]
  },
  {
   "cell_type": "code",
   "execution_count": null,
   "metadata": {},
   "outputs": [],
   "source": [
    "for i in es.indices.get_mapping().keys():\n",
    "    print(i)"
   ]
  },
  {
   "cell_type": "code",
   "execution_count": null,
   "metadata": {},
   "outputs": [],
   "source": [
    "# Check the list of columns in that index\n",
    "index = 'gstt_clinical_documents_letters'\n",
    "for col in es.indices.get_mapping(index=index)[index]['mappings']['properties'].keys():\n",
    "    print(col)"
   ]
  },
  {
   "cell_type": "markdown",
   "metadata": {},
   "source": [
    "# Set parameters"
   ]
  },
  {
   "cell_type": "code",
   "execution_count": null,
   "metadata": {},
   "outputs": [],
   "source": [
    "pt_list = [] # example list of patients' patient_TrustNumber here"
   ]
  },
  {
   "cell_type": "markdown",
   "metadata": {},
   "source": [
    "## Columns of interest\n",
    "\n",
    "Select your fields and list in order of output columns"
   ]
  },
  {
   "cell_type": "code",
   "execution_count": null,
   "metadata": {},
   "outputs": [],
   "source": [
    "\n",
    "columns = [\"body_analysed\",\n",
    "           \"patient_RaceCode\",\n",
    "           \"patient_Id\", # this number can be different from the trust number which you are searching for\n",
    "           \"patient_DOB\", \n",
    "           \"patient_GenderCode\", \n",
    "           \"patient_MaritalStatusCode\", \n",
    "           \"patient_ReligionCode\", \n",
    "           \"patient_DeceasedDtm\", \n",
    "           \"patient_LastName\",\n",
    "           \"patient_FirstName\",\n",
    "          ]"
   ]
  },
  {
   "cell_type": "markdown",
   "metadata": {},
   "source": [
    "## Build query\n",
    "\n",
    "For further information on [how to build a query can be found here](https://www.elastic.co/guide/en/elasticsearch/reference/current/query-dsl-simple-query-string-query.html)\n"
   ]
  },
  {
   "cell_type": "code",
   "execution_count": null,
   "metadata": {},
   "outputs": [],
   "source": [
    "query = {\n",
    "    \"from\" : 0 ,\n",
    "    \"size\" : 10000,\n",
    "    \"query\": {\n",
    "        \"bool\": {\n",
    "            \"filter\" : {\n",
    "                \"terms\" : {\"patient_TrustNumber\" : pt_list}\n",
    "            }\n",
    "        }\n",
    "    },\n",
    "    \"_source\": columns\n",
    "}"
   ]
  },
  {
   "cell_type": "markdown",
   "metadata": {},
   "source": [
    "# Search, retrieve, and save"
   ]
  },
  {
   "cell_type": "code",
   "execution_count": null,
   "metadata": {},
   "outputs": [],
   "source": [
    "search_results = scan(es,\n",
    "                      index=[\"gstt_clinical_epr_*\"],\n",
    "                      preserve_order=True,  # This has major effects on performance but preserves the search order\n",
    "                      query=query,\n",
    "                     )"
   ]
  },
  {
   "cell_type": "markdown",
   "metadata": {},
   "source": [
    "### Simple search"
   ]
  },
  {
   "cell_type": "code",
   "execution_count": null,
   "metadata": {},
   "outputs": [],
   "source": [
    "# Construct a df\n",
    "temp_results = []\n",
    "\n",
    "for hit in search_results:\n",
    "    row = {}\n",
    "    row['_index'] = hit['_index']\n",
    "    row['_type'] = hit['_type']\n",
    "    row['_id'] = hit['_id']\n",
    "    row['_score'] = hit['_score']\n",
    "    row.update(hit['_source'])\n",
    "    temp_results.append(row)\n",
    "\n",
    "df = pd.DataFrame(temp_results)\n",
    "df_headers = ['_index', '_type', '_id', '_score']\n",
    "df_headers.extend(columns)\n",
    "output_df = pd.DataFrame(columns=df_headers)\n",
    "df = pd.concat([output_df, df])"
   ]
  },
  {
   "cell_type": "markdown",
   "metadata": {},
   "source": [
    "### Simple search and save to file\n",
    "This option is for large searches"
   ]
  },
  {
   "cell_type": "code",
   "execution_count": null,
   "metadata": {},
   "outputs": [],
   "source": [
    "# Construct a df\n",
    "search_results_filename = 'search_results.csv'  # change output filename\n",
    "temp_results = []\n",
    "counter = 0\n",
    "save_interator = 5000  # saves every x hits\n",
    "df_headers = ['_index', '_type', '_id', '_score']\n",
    "df_headers.extend(columns)\n",
    "\n",
    "with open(search_results_filename, 'a') as f_object:\n",
    "    writer_object = writer(f_object)\n",
    "    writer_object.writerow(df_headers)\n",
    "    for hit in search_results:\n",
    "        if counter % save_interator == 0:\n",
    "            writer_object.writerows(temp_results)\n",
    "            temp_results = []\n",
    "            print(f'Saved {save_interator} docs')\n",
    "        row = {}\n",
    "        row['_index'] = hit['_index']\n",
    "        row['_type'] = hit['_type']\n",
    "        row['_id'] = hit['_id']\n",
    "        row['_score'] = hit['_score']\n",
    "        row.update(hit['_source'])\n",
    "        temp_results.append(row.values())\n",
    "        counter += 1\n",
    "        \n",
    "    writer_object.writerows(temp_results)\n",
    "    temp_results = []\n",
    "    f_object.close()"
   ]
  },
  {
   "cell_type": "code",
   "execution_count": null,
   "metadata": {
    "scrolled": true
   },
   "outputs": [],
   "source": []
  },
  {
   "cell_type": "markdown",
   "metadata": {},
   "source": [
    "# Process"
   ]
  },
  {
   "cell_type": "code",
   "execution_count": null,
   "metadata": {},
   "outputs": [],
   "source": [
    "# Whatever you want here\n",
    "df = pd.read_csv(search_results_filename)"
   ]
  },
  {
   "cell_type": "code",
   "execution_count": null,
   "metadata": {},
   "outputs": [],
   "source": [
    "df.head()"
   ]
  },
  {
   "cell_type": "markdown",
   "metadata": {},
   "source": [
    "# Save"
   ]
  },
  {
   "cell_type": "code",
   "execution_count": null,
   "metadata": {},
   "outputs": [],
   "source": [
    "df.to_csv(\"file_name.csv\", index=False)"
   ]
  }
 ],
 "metadata": {
  "kernelspec": {
   "display_name": "Python 3 (ipykernel)",
   "language": "python",
   "name": "python3"
  },
  "language_info": {
   "codemirror_mode": {
    "name": "ipython",
    "version": 3
   },
   "file_extension": ".py",
   "mimetype": "text/x-python",
   "name": "python",
   "nbconvert_exporter": "python",
   "pygments_lexer": "ipython3",
   "version": "3.7.3"
  }
 },
 "nbformat": 4,
 "nbformat_minor": 1
}
