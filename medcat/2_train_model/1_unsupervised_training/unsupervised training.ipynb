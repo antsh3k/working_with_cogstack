{
 "cells": [
  {
   "cell_type": "code",
   "execution_count": null,
   "id": "e0bf2200",
   "metadata": {},
   "outputs": [],
   "source": [
    "from medcat.cat import CAT\n",
    "import pandas as pd\n",
    "import os"
   ]
  },
  {
   "cell_type": "code",
   "execution_count": null,
   "id": "4f7e4879",
   "metadata": {},
   "outputs": [],
   "source": [
    "data_dir = ''\n",
    "data_file = '' # file containing training material.\n",
    "\n",
    "model_dir = ''\n",
    "\n",
    "modelpack = ''\n",
    "model_pack_path = os.path.join(model_dir, modelpack)\n",
    "\n",
    "output_modelpack = '' # Save name for new model\n"
   ]
  },
  {
   "cell_type": "markdown",
   "id": "4f8d70f2",
   "metadata": {},
   "source": [
    "## Initialise model"
   ]
  },
  {
   "cell_type": "code",
   "execution_count": null,
   "id": "a8861203",
   "metadata": {},
   "outputs": [],
   "source": [
    "# Load modelpack\n",
    "cat = CAT.load_model_pack(model_pack_path)"
   ]
  },
  {
   "cell_type": "code",
   "execution_count": null,
   "id": "c93d4da7",
   "metadata": {},
   "outputs": [],
   "source": [
    "cat.cdb.print_stats()"
   ]
  },
  {
   "cell_type": "code",
   "execution_count": null,
   "id": "7c896304",
   "metadata": {
    "scrolled": true
   },
   "outputs": [],
   "source": [
    "# Load training data\n",
    "data = pd.read_csv(os.path.join(data_dir, data_file))\n"
   ]
  },
  {
   "cell_type": "code",
   "execution_count": null,
   "id": "d514ecbc",
   "metadata": {},
   "outputs": [],
   "source": [
    "data.shape"
   ]
  },
  {
   "cell_type": "code",
   "execution_count": null,
   "id": "2505c049",
   "metadata": {
    "scrolled": true
   },
   "outputs": [],
   "source": [
    "# Print statistics on the CDB before training\n",
    "cat.cdb.print_stats()\n",
    "\n",
    "# Run the annotation procedure over all the documents we have,\n",
    "# given that we have a large number of documents this can take quite some time.\n",
    "\n",
    "for i, text in enumerate(data['text'].values):\n",
    "    # This will now run the training in the background \n",
    "    try:\n",
    "        _ = cat(text, do_train=True)\n",
    "    except TypeError:\n",
    "        pass\n",
    "        \n",
    "    # So we know how things are moving\n",
    "    if i % 10000 == 0:\n",
    "        print(\"Finished {} - text blocks\".format(i))\n"
   ]
  },
  {
   "cell_type": "code",
   "execution_count": null,
   "id": "1192d79f",
   "metadata": {},
   "outputs": [],
   "source": [
    "# Print statistics on the CDB after training\n",
    "cat.cdb.print_stats()"
   ]
  },
  {
   "cell_type": "code",
   "execution_count": null,
   "id": "73bbc21c",
   "metadata": {},
   "outputs": [],
   "source": [
    "# save modelpack\n",
    "cat.create_model_pack(save_dir_path=model_dir, model_pack_name=output_modelpack)\n"
   ]
  },
  {
   "cell_type": "markdown",
   "id": "5e0730d5",
   "metadata": {},
   "source": [
    "End of script"
   ]
  }
 ],
 "metadata": {
  "kernelspec": {
   "display_name": "Python 3 (ipykernel)",
   "language": "python",
   "name": "python3"
  },
  "language_info": {
   "codemirror_mode": {
    "name": "ipython",
    "version": 3
   },
   "file_extension": ".py",
   "mimetype": "text/x-python",
   "name": "python",
   "nbconvert_exporter": "python",
   "pygments_lexer": "ipython3",
   "version": "3.7.3"
  }
 },
 "nbformat": 4,
 "nbformat_minor": 5
}
