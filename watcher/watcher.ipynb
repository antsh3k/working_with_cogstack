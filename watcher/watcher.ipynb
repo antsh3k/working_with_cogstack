{
 "cells": [
  {
   "cell_type": "code",
   "execution_count": 1,
   "metadata": {},
   "outputs": [],
   "source": [
    "from elasticsearch import Elasticsearch\n"
   ]
  },
  {
   "cell_type": "code",
   "execution_count": 2,
   "metadata": {},
   "outputs": [],
   "source": [
    "# Ignore warning messages\n",
    "import warnings\n",
    "warnings.filterwarnings(\"ignore\")"
   ]
  },
  {
   "cell_type": "markdown",
   "metadata": {},
   "source": [
    "# Login and connect"
   ]
  },
  {
   "cell_type": "code",
   "execution_count": 3,
   "metadata": {},
   "outputs": [],
   "source": [
    "import sys\n",
    "sys.path.append(\"..\")\n",
    "from credentials import * # make sure to set the required files"
   ]
  },
  {
   "cell_type": "code",
   "execution_count": null,
   "metadata": {},
   "outputs": [],
   "source": []
  },
  {
   "cell_type": "code",
   "execution_count": 5,
   "metadata": {},
   "outputs": [],
   "source": [
    "es = Elasticsearch(hosts=hosts, # make sure to configure the hosts in the credentials file\n",
    "                   verify_certs=False,\n",
    "                   scheme='https',\n",
    "                   http_auth=(username, password), # configure the login details in the credentials.py file\n",
    "                   #api_key=(api_username, api_password), # configure the api login details in the credentials.py file\n",
    "                  )"
   ]
  },
  {
   "cell_type": "markdown",
   "metadata": {},
   "source": [
    "# Check the list of Indices and columns"
   ]
  },
  {
   "cell_type": "code",
   "execution_count": 8,
   "metadata": {},
   "outputs": [
    {
     "name": "stdout",
     "output_type": "stream",
     "text": [
      "gstt_clinical_emergency_20211224\n",
      "gstt_clinical_epr_results_20220120\n",
      "gstt_clinical_documents_edl\n",
      "gstt_clinical_documents_edl_annotations\n",
      "gstt_clinical_epr_observations_20220120\n",
      "gstt_clinical_noting_20220105\n",
      "gstt_clinical_documents_letters\n",
      "gstt_clinical_epr_orders_20220120\n",
      "gstt_clinical_epr_results\n",
      "gstt_clinical_documents_letters_annotations\n",
      "gstt_clinical_cancer_documents_annotations\n",
      "gstt_clinical_neonatal_comments\n",
      "gstt_clinical_cancer_documents_20220120\n"
     ]
    }
   ],
   "source": [
    "for i in es.indices.get_mapping().keys():\n",
    "    print(i)"
   ]
  },
  {
   "cell_type": "code",
   "execution_count": 9,
   "metadata": {},
   "outputs": [
    {
     "name": "stdout",
     "output_type": "stream",
     "text": [
      "body_analysed\n",
      "document_ApplicationCode\n",
      "document_ApplicationSource\n",
      "document_ArrivalDtm\n",
      "document_Author\n",
      "document_AuthoredDtm\n",
      "document_AuthoredProviderGUID\n",
      "document_AuthorisorDisplayName\n",
      "document_AuthorisorGUID\n",
      "document_CareProviderDisplayName\n",
      "document_CareProviderTypeCode\n",
      "document_ChartGUID\n",
      "document_Comment\n",
      "document_ContentType\n",
      "document_CreatedBy\n",
      "document_CreatedWhen\n",
      "document_DateAdded\n",
      "document_DateCreated\n",
      "document_DefinitionGUID\n",
      "document_Description\n",
      "document_Entered\n",
      "document_EnteredDisplayName\n",
      "document_EnteredOccupationCode\n",
      "document_EntryType\n",
      "document_Extension\n",
      "document_ExternalDocumentID\n",
      "document_FileName\n",
      "document_FillerDocumentID\n",
      "document_FillerFacilityID\n",
      "document_GUID\n",
      "document_KTreeRootGUID\n",
      "document_LastUpdated\n",
      "document_LetterMakerGUID\n",
      "document_Name\n",
      "document_OrganizationalUnit\n",
      "document_ReviewMasterCategory\n",
      "document_ReviewSubCategory\n",
      "document_Source\n",
      "document_TextType\n",
      "document_TouchedBy\n",
      "document_TouchedWhen\n",
      "document_Type\n",
      "document_UserGUID\n",
      "id\n",
      "meta_document_analysed\n",
      "nlp\n",
      "patientAddress_City\n",
      "patientAddress_CountryCode\n",
      "patientAddress_Line1\n",
      "patientAddress_Line2\n",
      "patientAddress_Line3\n",
      "patientAddress_PostalCode\n",
      "patientVisit_AdmitDtm\n",
      "patientVisit_ApplicSource\n",
      "patientVisit_CareLevelCode\n",
      "patientVisit_ClientDisplayName\n",
      "patientVisit_CloseDtm\n",
      "patientVisit_CreatedBy\n",
      "patientVisit_CreatedWhen\n",
      "patientVisit_CurrentLocation\n",
      "patientVisit_CurrentLocationGUID\n",
      "patientVisit_DischargeDisposition\n",
      "patientVisit_DischargeDtm\n",
      "patientVisit_DischargeLocation\n",
      "patientVisit_Id\n",
      "patientVisit_InternalVisitStatus\n",
      "patientVisit_LengthOfStay\n",
      "patientVisit_Number\n",
      "patientVisit_PlannedDischargeDtm\n",
      "patientVisit_ProviderDisplayName\n",
      "patientVisit_ServiceDescription\n",
      "patientVisit_ServiceGUID\n",
      "patientVisit_Status\n",
      "patientVisit_TouchedBy\n",
      "patientVisit_TouchedWhen\n",
      "patientVisit_TypeCode\n",
      "patientVisit_VisitTypeCareLevelGUID\n",
      "patient_Age\n",
      "patient_CityOfBirth\n",
      "patient_CountryDvsnOfBirth\n",
      "patient_CountryOfBirth\n",
      "patient_CreatedBy\n",
      "patient_CreatedWhen\n",
      "patient_DOB\n",
      "patient_DeceasedDtm\n",
      "patient_FirstName\n",
      "patient_GenderCode\n",
      "patient_HouseholdGUID\n",
      "patient_Id\n",
      "patient_LanguageCode\n",
      "patient_LastName\n",
      "patient_MaritalStatusCode\n",
      "patient_MiddleName\n",
      "patient_NationalityCode\n",
      "patient_NhsNumber\n",
      "patient_OccupationCode\n",
      "patient_RaceCode\n",
      "patient_ReligionCode\n",
      "patient_Title\n",
      "patient_TouchedBy\n",
      "patient_TouchedWhen\n",
      "patient_TrustNumber\n",
      "patient_address_analysed\n",
      "patient_name_analysed\n",
      "patient_visit_analysed\n",
      "personId\n",
      "personType\n"
     ]
    }
   ],
   "source": [
    "# Check the list of columns in that index\n",
    "index = 'gstt_clinical_documents_letters'\n",
    "for col in es.indices.get_mapping(index=index)[index]['mappings']['properties'].keys():\n",
    "    print(col)"
   ]
  },
  {
   "cell_type": "markdown",
   "metadata": {},
   "source": [
    "# Set parameters "
   ]
  },
  {
   "cell_type": "code",
   "execution_count": null,
   "metadata": {},
   "outputs": [],
   "source": [
    "id_num = \n",
    "index = "
   ]
  },
  {
   "cell_type": "code",
   "execution_count": null,
   "metadata": {},
   "outputs": [],
   "source": [
    "es.search"
   ]
  },
  {
   "cell_type": "markdown",
   "metadata": {},
   "source": [
    "# Create watcher\n",
    "https://www.elastic.co/guide/en/elasticsearch/reference/current/watcher-api-put-watch.html"
   ]
  },
  {
   "cell_type": "code",
   "execution_count": null,
   "metadata": {},
   "outputs": [],
   "source": [
    "es.watcher.put_watch(id=,\n",
    "                     trigger=,\n",
    "                     input=,\n",
    "                     condition=,\n",
    "                     transform=,\n",
    "                     actions=,\n",
    "                    )"
   ]
  },
  {
   "cell_type": "code",
   "execution_count": null,
   "metadata": {},
   "outputs": [],
   "source": []
  },
  {
   "cell_type": "code",
   "execution_count": null,
   "metadata": {},
   "outputs": [],
   "source": []
  }
 ],
 "metadata": {
  "kernelspec": {
   "display_name": "Python 3 (ipykernel)",
   "language": "python",
   "name": "python3"
  },
  "language_info": {
   "codemirror_mode": {
    "name": "ipython",
    "version": 3
   },
   "file_extension": ".py",
   "mimetype": "text/x-python",
   "name": "python",
   "nbconvert_exporter": "python",
   "pygments_lexer": "ipython3",
   "version": "3.9.7"
  }
 },
 "nbformat": 4,
 "nbformat_minor": 1
}